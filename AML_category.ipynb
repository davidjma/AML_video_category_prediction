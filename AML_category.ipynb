{
  "nbformat": 4,
  "nbformat_minor": 5,
  "metadata": {
    "kernelspec": {
      "display_name": "Python 3",
      "language": "python",
      "name": "python3"
    },
    "language_info": {
      "codemirror_mode": {
        "name": "ipython",
        "version": 3
      },
      "file_extension": ".py",
      "mimetype": "text/x-python",
      "name": "python",
      "nbconvert_exporter": "python",
      "pygments_lexer": "ipython3",
      "version": "3.8.8"
    },
    "colab": {
      "name": "AML_category.ipynb",
      "provenance": []
    }
  },
  "cells": [
    {
      "cell_type": "code",
      "metadata": {
        "id": "41c10e35",
        "colab": {
          "base_uri": "https://localhost:8080/"
        },
        "outputId": "90b3d86a-9227-4b2e-e270-78570ef1194a"
      },
      "source": [
        "#importing libraries\n",
        "import numpy as np\n",
        "import pandas as pd\n",
        "import seaborn as sns\n",
        "import matplotlib.pyplot as plt\n",
        "import json\n",
        "from sklearn.preprocessing import LabelEncoder\n",
        "from sklearn.model_selection import train_test_split\n",
        "from sklearn.ensemble import GradientBoostingClassifier, HistGradientBoostingClassifier, RandomForestClassifier\n",
        "from sklearn.tree import DecisionTreeClassifier\n",
        "from xgboost import XGBClassifier\n",
        "from sklearn.linear_model import LogisticRegression\n",
        "\n",
        "from google.colab import drive\n",
        "drive.mount('/content/drive')"
      ],
      "id": "41c10e35",
      "execution_count": null,
      "outputs": [
        {
          "output_type": "stream",
          "name": "stdout",
          "text": [
            "Mounted at /content/drive\n"
          ]
        }
      ]
    },
    {
      "cell_type": "code",
      "metadata": {
        "id": "Knj_RKEHisAZ",
        "colab": {
          "base_uri": "https://localhost:8080/",
          "height": 1000
        },
        "outputId": "68524da8-2321-46b8-ec7f-a8e7d78ce945"
      },
      "source": [
        "# loading data\n",
        "data = pd.read_csv(\"/content/drive/MyDrive/AML_category_identification/USvideos.csv\") #40949 × 16 \n",
        "data"
      ],
      "id": "Knj_RKEHisAZ",
      "execution_count": null,
      "outputs": [
        {
          "output_type": "execute_result",
          "data": {
            "text/html": [
              "<div>\n",
              "<style scoped>\n",
              "    .dataframe tbody tr th:only-of-type {\n",
              "        vertical-align: middle;\n",
              "    }\n",
              "\n",
              "    .dataframe tbody tr th {\n",
              "        vertical-align: top;\n",
              "    }\n",
              "\n",
              "    .dataframe thead th {\n",
              "        text-align: right;\n",
              "    }\n",
              "</style>\n",
              "<table border=\"1\" class=\"dataframe\">\n",
              "  <thead>\n",
              "    <tr style=\"text-align: right;\">\n",
              "      <th></th>\n",
              "      <th>video_id</th>\n",
              "      <th>trending_date</th>\n",
              "      <th>title</th>\n",
              "      <th>channel_title</th>\n",
              "      <th>category_id</th>\n",
              "      <th>publish_time</th>\n",
              "      <th>tags</th>\n",
              "      <th>views</th>\n",
              "      <th>likes</th>\n",
              "      <th>dislikes</th>\n",
              "      <th>comment_count</th>\n",
              "      <th>thumbnail_link</th>\n",
              "      <th>comments_disabled</th>\n",
              "      <th>ratings_disabled</th>\n",
              "      <th>video_error_or_removed</th>\n",
              "      <th>description</th>\n",
              "    </tr>\n",
              "  </thead>\n",
              "  <tbody>\n",
              "    <tr>\n",
              "      <th>0</th>\n",
              "      <td>2kyS6SvSYSE</td>\n",
              "      <td>17.14.11</td>\n",
              "      <td>WE WANT TO TALK ABOUT OUR MARRIAGE</td>\n",
              "      <td>CaseyNeistat</td>\n",
              "      <td>22</td>\n",
              "      <td>2017-11-13T17:13:01.000Z</td>\n",
              "      <td>SHANtell martin</td>\n",
              "      <td>748374</td>\n",
              "      <td>57527</td>\n",
              "      <td>2966</td>\n",
              "      <td>15954</td>\n",
              "      <td>https://i.ytimg.com/vi/2kyS6SvSYSE/default.jpg</td>\n",
              "      <td>False</td>\n",
              "      <td>False</td>\n",
              "      <td>False</td>\n",
              "      <td>SHANTELL'S CHANNEL - https://www.youtube.com/s...</td>\n",
              "    </tr>\n",
              "    <tr>\n",
              "      <th>1</th>\n",
              "      <td>1ZAPwfrtAFY</td>\n",
              "      <td>17.14.11</td>\n",
              "      <td>The Trump Presidency: Last Week Tonight with J...</td>\n",
              "      <td>LastWeekTonight</td>\n",
              "      <td>24</td>\n",
              "      <td>2017-11-13T07:30:00.000Z</td>\n",
              "      <td>last week tonight trump presidency|\"last week ...</td>\n",
              "      <td>2418783</td>\n",
              "      <td>97185</td>\n",
              "      <td>6146</td>\n",
              "      <td>12703</td>\n",
              "      <td>https://i.ytimg.com/vi/1ZAPwfrtAFY/default.jpg</td>\n",
              "      <td>False</td>\n",
              "      <td>False</td>\n",
              "      <td>False</td>\n",
              "      <td>One year after the presidential election, John...</td>\n",
              "    </tr>\n",
              "    <tr>\n",
              "      <th>2</th>\n",
              "      <td>5qpjK5DgCt4</td>\n",
              "      <td>17.14.11</td>\n",
              "      <td>Racist Superman | Rudy Mancuso, King Bach &amp; Le...</td>\n",
              "      <td>Rudy Mancuso</td>\n",
              "      <td>23</td>\n",
              "      <td>2017-11-12T19:05:24.000Z</td>\n",
              "      <td>racist superman|\"rudy\"|\"mancuso\"|\"king\"|\"bach\"...</td>\n",
              "      <td>3191434</td>\n",
              "      <td>146033</td>\n",
              "      <td>5339</td>\n",
              "      <td>8181</td>\n",
              "      <td>https://i.ytimg.com/vi/5qpjK5DgCt4/default.jpg</td>\n",
              "      <td>False</td>\n",
              "      <td>False</td>\n",
              "      <td>False</td>\n",
              "      <td>WATCH MY PREVIOUS VIDEO ▶ \\n\\nSUBSCRIBE ► http...</td>\n",
              "    </tr>\n",
              "    <tr>\n",
              "      <th>3</th>\n",
              "      <td>puqaWrEC7tY</td>\n",
              "      <td>17.14.11</td>\n",
              "      <td>Nickelback Lyrics: Real or Fake?</td>\n",
              "      <td>Good Mythical Morning</td>\n",
              "      <td>24</td>\n",
              "      <td>2017-11-13T11:00:04.000Z</td>\n",
              "      <td>rhett and link|\"gmm\"|\"good mythical morning\"|\"...</td>\n",
              "      <td>343168</td>\n",
              "      <td>10172</td>\n",
              "      <td>666</td>\n",
              "      <td>2146</td>\n",
              "      <td>https://i.ytimg.com/vi/puqaWrEC7tY/default.jpg</td>\n",
              "      <td>False</td>\n",
              "      <td>False</td>\n",
              "      <td>False</td>\n",
              "      <td>Today we find out if Link is a Nickelback amat...</td>\n",
              "    </tr>\n",
              "    <tr>\n",
              "      <th>4</th>\n",
              "      <td>d380meD0W0M</td>\n",
              "      <td>17.14.11</td>\n",
              "      <td>I Dare You: GOING BALD!?</td>\n",
              "      <td>nigahiga</td>\n",
              "      <td>24</td>\n",
              "      <td>2017-11-12T18:01:41.000Z</td>\n",
              "      <td>ryan|\"higa\"|\"higatv\"|\"nigahiga\"|\"i dare you\"|\"...</td>\n",
              "      <td>2095731</td>\n",
              "      <td>132235</td>\n",
              "      <td>1989</td>\n",
              "      <td>17518</td>\n",
              "      <td>https://i.ytimg.com/vi/d380meD0W0M/default.jpg</td>\n",
              "      <td>False</td>\n",
              "      <td>False</td>\n",
              "      <td>False</td>\n",
              "      <td>I know it's been a while since we did this sho...</td>\n",
              "    </tr>\n",
              "    <tr>\n",
              "      <th>...</th>\n",
              "      <td>...</td>\n",
              "      <td>...</td>\n",
              "      <td>...</td>\n",
              "      <td>...</td>\n",
              "      <td>...</td>\n",
              "      <td>...</td>\n",
              "      <td>...</td>\n",
              "      <td>...</td>\n",
              "      <td>...</td>\n",
              "      <td>...</td>\n",
              "      <td>...</td>\n",
              "      <td>...</td>\n",
              "      <td>...</td>\n",
              "      <td>...</td>\n",
              "      <td>...</td>\n",
              "      <td>...</td>\n",
              "    </tr>\n",
              "    <tr>\n",
              "      <th>40944</th>\n",
              "      <td>BZt0qjTWNhw</td>\n",
              "      <td>18.14.06</td>\n",
              "      <td>The Cat Who Caught the Laser</td>\n",
              "      <td>AaronsAnimals</td>\n",
              "      <td>15</td>\n",
              "      <td>2018-05-18T13:00:04.000Z</td>\n",
              "      <td>aarons animals|\"aarons\"|\"animals\"|\"cat\"|\"cats\"...</td>\n",
              "      <td>1685609</td>\n",
              "      <td>38160</td>\n",
              "      <td>1385</td>\n",
              "      <td>2657</td>\n",
              "      <td>https://i.ytimg.com/vi/BZt0qjTWNhw/default.jpg</td>\n",
              "      <td>False</td>\n",
              "      <td>False</td>\n",
              "      <td>False</td>\n",
              "      <td>The Cat Who Caught the Laser - Aaron's Animals</td>\n",
              "    </tr>\n",
              "    <tr>\n",
              "      <th>40945</th>\n",
              "      <td>1h7KV2sjUWY</td>\n",
              "      <td>18.14.06</td>\n",
              "      <td>True Facts : Ant Mutualism</td>\n",
              "      <td>zefrank1</td>\n",
              "      <td>22</td>\n",
              "      <td>2018-05-18T01:00:06.000Z</td>\n",
              "      <td>[none]</td>\n",
              "      <td>1064798</td>\n",
              "      <td>60008</td>\n",
              "      <td>382</td>\n",
              "      <td>3936</td>\n",
              "      <td>https://i.ytimg.com/vi/1h7KV2sjUWY/default.jpg</td>\n",
              "      <td>False</td>\n",
              "      <td>False</td>\n",
              "      <td>False</td>\n",
              "      <td>NaN</td>\n",
              "    </tr>\n",
              "    <tr>\n",
              "      <th>40946</th>\n",
              "      <td>D6Oy4LfoqsU</td>\n",
              "      <td>18.14.06</td>\n",
              "      <td>I GAVE SAFIYA NYGAARD A PERFECT HAIR MAKEOVER ...</td>\n",
              "      <td>Brad Mondo</td>\n",
              "      <td>24</td>\n",
              "      <td>2018-05-18T17:34:22.000Z</td>\n",
              "      <td>I gave safiya nygaard a perfect hair makeover ...</td>\n",
              "      <td>1066451</td>\n",
              "      <td>48068</td>\n",
              "      <td>1032</td>\n",
              "      <td>3992</td>\n",
              "      <td>https://i.ytimg.com/vi/D6Oy4LfoqsU/default.jpg</td>\n",
              "      <td>False</td>\n",
              "      <td>False</td>\n",
              "      <td>False</td>\n",
              "      <td>I had so much fun transforming Safiyas hair in...</td>\n",
              "    </tr>\n",
              "    <tr>\n",
              "      <th>40947</th>\n",
              "      <td>oV0zkMe1K8s</td>\n",
              "      <td>18.14.06</td>\n",
              "      <td>How Black Panther Should Have Ended</td>\n",
              "      <td>How It Should Have Ended</td>\n",
              "      <td>1</td>\n",
              "      <td>2018-05-17T17:00:04.000Z</td>\n",
              "      <td>Black Panther|\"HISHE\"|\"Marvel\"|\"Infinity War\"|...</td>\n",
              "      <td>5660813</td>\n",
              "      <td>192957</td>\n",
              "      <td>2846</td>\n",
              "      <td>13088</td>\n",
              "      <td>https://i.ytimg.com/vi/oV0zkMe1K8s/default.jpg</td>\n",
              "      <td>False</td>\n",
              "      <td>False</td>\n",
              "      <td>False</td>\n",
              "      <td>How Black Panther Should Have EndedWatch More ...</td>\n",
              "    </tr>\n",
              "    <tr>\n",
              "      <th>40948</th>\n",
              "      <td>ooyjaVdt-jA</td>\n",
              "      <td>18.14.06</td>\n",
              "      <td>Official Call of Duty®: Black Ops 4 — Multipla...</td>\n",
              "      <td>Call of Duty</td>\n",
              "      <td>20</td>\n",
              "      <td>2018-05-17T17:09:38.000Z</td>\n",
              "      <td>call of duty|\"cod\"|\"activision\"|\"Black Ops 4\"</td>\n",
              "      <td>10306119</td>\n",
              "      <td>357079</td>\n",
              "      <td>212976</td>\n",
              "      <td>144795</td>\n",
              "      <td>https://i.ytimg.com/vi/ooyjaVdt-jA/default.jpg</td>\n",
              "      <td>False</td>\n",
              "      <td>False</td>\n",
              "      <td>False</td>\n",
              "      <td>Call of Duty: Black Ops 4 Multiplayer raises t...</td>\n",
              "    </tr>\n",
              "  </tbody>\n",
              "</table>\n",
              "<p>40949 rows × 16 columns</p>\n",
              "</div>"
            ],
            "text/plain": [
              "          video_id  ...                                        description\n",
              "0      2kyS6SvSYSE  ...  SHANTELL'S CHANNEL - https://www.youtube.com/s...\n",
              "1      1ZAPwfrtAFY  ...  One year after the presidential election, John...\n",
              "2      5qpjK5DgCt4  ...  WATCH MY PREVIOUS VIDEO ▶ \\n\\nSUBSCRIBE ► http...\n",
              "3      puqaWrEC7tY  ...  Today we find out if Link is a Nickelback amat...\n",
              "4      d380meD0W0M  ...  I know it's been a while since we did this sho...\n",
              "...            ...  ...                                                ...\n",
              "40944  BZt0qjTWNhw  ...     The Cat Who Caught the Laser - Aaron's Animals\n",
              "40945  1h7KV2sjUWY  ...                                                NaN\n",
              "40946  D6Oy4LfoqsU  ...  I had so much fun transforming Safiyas hair in...\n",
              "40947  oV0zkMe1K8s  ...  How Black Panther Should Have EndedWatch More ...\n",
              "40948  ooyjaVdt-jA  ...  Call of Duty: Black Ops 4 Multiplayer raises t...\n",
              "\n",
              "[40949 rows x 16 columns]"
            ]
          },
          "metadata": {},
          "execution_count": 3
        }
      ]
    },
    {
      "cell_type": "markdown",
      "metadata": {
        "id": "LSfFzPFk8pN4"
      },
      "source": [
        "### **Preprocessing Performed**\n",
        "\n",
        "Video ID: Label Encoding \n",
        "\n",
        "Trending_Date: Make new columns \"day\", \"month\", \"year\" \n",
        "\n",
        "Title: use top 50 words and see if each video has it \n",
        "\n",
        "Channel_title: Label Encoding \n",
        "\n",
        "Publish time: Adding column of \"published quarters\" and Label Encoding \n",
        "\n",
        "Tags: Label Encoding \n",
        "\n",
        "Views: Sector grouping \n",
        "\n",
        "Likes: Sector grouping\n",
        "\n",
        "Dislikes: Sector grouping\n",
        "\n",
        "Comments: Sector grouping\n",
        "\n",
        "Comments Disabled: Label Encoding\n",
        "\n",
        "Ratings Disabled: Label Encoding\n",
        "\n",
        "Video Error or Removed: Label Encoding\n",
        "\n",
        "Thumbnail_link: Drop\n",
        "\n",
        "Description: Label Encoding\n",
        "\n",
        "\n"
      ],
      "id": "LSfFzPFk8pN4"
    },
    {
      "cell_type": "code",
      "metadata": {
        "colab": {
          "base_uri": "https://localhost:8080/"
        },
        "id": "FVlgrttmj4MB",
        "outputId": "e8eef2aa-556c-4998-99e9-05c471af9267"
      },
      "source": [
        "# outputing json file details\n",
        "with open('/content/drive/MyDrive/AML_category_identification/US_category_id.json') as f:\n",
        "  jj = json.load(f)\n",
        "\n",
        "category_data = {}\n",
        "for item in jj['items']:\n",
        "  category_data[int(item['id'])] = item['snippet']['title']\n",
        "category_data"
      ],
      "id": "FVlgrttmj4MB",
      "execution_count": null,
      "outputs": [
        {
          "output_type": "execute_result",
          "data": {
            "text/plain": [
              "{1: 'Film & Animation',\n",
              " 2: 'Autos & Vehicles',\n",
              " 10: 'Music',\n",
              " 15: 'Pets & Animals',\n",
              " 17: 'Sports',\n",
              " 18: 'Short Movies',\n",
              " 19: 'Travel & Events',\n",
              " 20: 'Gaming',\n",
              " 21: 'Videoblogging',\n",
              " 22: 'People & Blogs',\n",
              " 23: 'Comedy',\n",
              " 24: 'Entertainment',\n",
              " 25: 'News & Politics',\n",
              " 26: 'Howto & Style',\n",
              " 27: 'Education',\n",
              " 28: 'Science & Technology',\n",
              " 29: 'Nonprofits & Activism',\n",
              " 30: 'Movies',\n",
              " 31: 'Anime/Animation',\n",
              " 32: 'Action/Adventure',\n",
              " 33: 'Classics',\n",
              " 34: 'Comedy',\n",
              " 35: 'Documentary',\n",
              " 36: 'Drama',\n",
              " 37: 'Family',\n",
              " 38: 'Foreign',\n",
              " 39: 'Horror',\n",
              " 40: 'Sci-Fi/Fantasy',\n",
              " 41: 'Thriller',\n",
              " 42: 'Shorts',\n",
              " 43: 'Shows',\n",
              " 44: 'Trailers'}"
            ]
          },
          "metadata": {},
          "execution_count": 4
        }
      ]
    },
    {
      "cell_type": "code",
      "metadata": {
        "id": "2H9yKQ9DkVWR"
      },
      "source": [
        "# defining functions to use for preprocessing\n",
        "def my_label_encoding(original_feature , new_feature) :\n",
        "    '''Performs label encoding on old feature from dataset and assigns it as a new feature. Drops the old feature.\n",
        "        \n",
        "        Parameters\n",
        "        ----------\n",
        "        original_feature: name of original feature\n",
        "        new_feature: name of new feature\n",
        "        \n",
        "        Returns\n",
        "        -------\n",
        "        None\n",
        "        ''' \n",
        "    enc  = LabelEncoder()\n",
        "    enc.fit(data[original_feature])\n",
        "    data[new_feature] = enc.transform(data[original_feature])\n",
        "    data.drop([original_feature],axis=1, inplace=True)\n",
        "\n",
        "def my_countplot(feature) :\n",
        "    '''Plotting category distribution on a countplot for a specific feature.\n",
        "        \n",
        "        Parameters\n",
        "        ----------\n",
        "        feature : name of the feature\n",
        "        \n",
        "        Returns\n",
        "        -------\n",
        "        None\n",
        "        '''\n",
        "    sns.countplot(x=feature, data=data,facecolor=(0, 0, 0, 0),linewidth=5,edgecolor=sns.color_palette(\"prism\", 5)) "
      ],
      "id": "2H9yKQ9DkVWR",
      "execution_count": null,
      "outputs": []
    },
    {
      "cell_type": "code",
      "metadata": {
        "colab": {
          "base_uri": "https://localhost:8080/"
        },
        "id": "pXzEtlkWkKiI",
        "outputId": "ff8adbc4-60e6-4a80-a541-b3adb0f4b534"
      },
      "source": [
        "# checking unique values for each feature to determine which preprocessing method to take\n",
        "for items in data.columns : \n",
        "    print('Unique values in \"{0}\": {1}'.format(items ,len(data[items].unique())))"
      ],
      "id": "pXzEtlkWkKiI",
      "execution_count": null,
      "outputs": [
        {
          "output_type": "stream",
          "name": "stdout",
          "text": [
            "Unique values in \"video_id\": 6351\n",
            "Unique values in \"trending_date\": 205\n",
            "Unique values in \"title\": 6455\n",
            "Unique values in \"channel_title\": 2207\n",
            "Unique values in \"category_id\": 16\n",
            "Unique values in \"publish_time\": 6269\n",
            "Unique values in \"tags\": 6055\n",
            "Unique values in \"views\": 40478\n",
            "Unique values in \"likes\": 29850\n",
            "Unique values in \"dislikes\": 8516\n",
            "Unique values in \"comment_count\": 13773\n",
            "Unique values in \"thumbnail_link\": 6352\n",
            "Unique values in \"comments_disabled\": 2\n",
            "Unique values in \"ratings_disabled\": 2\n",
            "Unique values in \"video_error_or_removed\": 2\n",
            "Unique values in \"description\": 6902\n"
          ]
        }
      ]
    },
    {
      "cell_type": "markdown",
      "metadata": {
        "id": "zRAigS5S8K4T"
      },
      "source": [
        "**Video ID**"
      ],
      "id": "zRAigS5S8K4T"
    },
    {
      "cell_type": "code",
      "metadata": {
        "id": "zSYq_COj8AVO"
      },
      "source": [
        "# label encoding\n",
        "my_label_encoding('video_id', 'video_id_enc')"
      ],
      "id": "zSYq_COj8AVO",
      "execution_count": null,
      "outputs": []
    },
    {
      "cell_type": "markdown",
      "metadata": {
        "id": "aKF0zFVc8xJM"
      },
      "source": [
        "**Trending Date**"
      ],
      "id": "aKF0zFVc8xJM"
    },
    {
      "cell_type": "code",
      "metadata": {
        "id": "KtJ9dI_uo_vB"
      },
      "source": [
        "# dividing into unique year, month, day\n",
        "year_list = [] #17, 18\n",
        "month_list = [] #01, 02, 03, 04, 05, 06, 11, 12\n",
        "day_list = [] #01 - 31\n",
        "\n",
        "for x in range(data.shape[0]) :\n",
        "    year_list.append(data['trending_date'][x][:2])\n",
        "    month_list.append(data['trending_date'][x][6:])\n",
        "    day_list.append(data['trending_date'][x][3:5])\n",
        "\n",
        "# adding columns to the data\n",
        "data.insert(16,'Year',year_list)\n",
        "data.insert(17,'Month',month_list)\n",
        "data.insert(18,'Day',day_list)"
      ],
      "id": "KtJ9dI_uo_vB",
      "execution_count": null,
      "outputs": []
    },
    {
      "cell_type": "code",
      "metadata": {
        "id": "hZeHI4IHpysP"
      },
      "source": [
        "# year encoding and deleting \"trending_date\" column\n",
        "data.drop(['trending_date'],axis=1, inplace=True)\n",
        "year_dict = {'17': 0,'18':1}\n",
        "data['Year'] = data['Year'].map(year_dict)"
      ],
      "id": "hZeHI4IHpysP",
      "execution_count": null,
      "outputs": []
    },
    {
      "cell_type": "markdown",
      "metadata": {
        "id": "xrtZfCRV-usA"
      },
      "source": [
        "**Title**"
      ],
      "id": "xrtZfCRV-usA"
    },
    {
      "cell_type": "code",
      "metadata": {
        "colab": {
          "base_uri": "https://localhost:8080/"
        },
        "id": "HG37-LY8-tMG",
        "outputId": "aed9719a-50e4-4de5-c6fc-dba15a2a520a"
      },
      "source": [
        "# splitting all words and counting them\n",
        "all_words = []\n",
        "for x in range(data.shape[0]) : \n",
        "    all_words = all_words  +  data['title'][x].split()\n",
        "\n",
        "print('Number of total words in title:', len(all_words)) "
      ],
      "id": "HG37-LY8-tMG",
      "execution_count": null,
      "outputs": [
        {
          "output_type": "stream",
          "name": "stdout",
          "text": [
            "Number of total words in title: 348847\n"
          ]
        }
      ]
    },
    {
      "cell_type": "code",
      "metadata": {
        "colab": {
          "base_uri": "https://localhost:8080/"
        },
        "id": "wGtPLndxsJu4",
        "outputId": "056646d9-df4e-4fd3-9aa8-8b20d7542083"
      },
      "source": [
        "# finding top 50 words in \"title\"\n",
        "all_words_serie = pd.Series(all_words)\n",
        "top_50words =  all_words_serie.value_counts()[:50] \n",
        "top_50words = list(top_50words.index)\n",
        "top_50words"
      ],
      "id": "wGtPLndxsJu4",
      "execution_count": null,
      "outputs": [
        {
          "output_type": "execute_result",
          "data": {
            "text/plain": [
              "['-',\n",
              " '|',\n",
              " 'The',\n",
              " 'the',\n",
              " 'a',\n",
              " 'to',\n",
              " 'of',\n",
              " 'in',\n",
              " 'A',\n",
              " '&',\n",
              " 'I',\n",
              " 'and',\n",
              " 'Video)',\n",
              " 'Trailer',\n",
              " 'How',\n",
              " 'with',\n",
              " '2018',\n",
              " '(Official',\n",
              " 'Official',\n",
              " 'on',\n",
              " 'To',\n",
              " 'You',\n",
              " 'My',\n",
              " 'for',\n",
              " 'ft.',\n",
              " 'In',\n",
              " 'With',\n",
              " 'Is',\n",
              " 'at',\n",
              " 'What',\n",
              " 'MY',\n",
              " 'Music',\n",
              " '2017',\n",
              " '2',\n",
              " 'is',\n",
              " 'On',\n",
              " 'Why',\n",
              " 'This',\n",
              " 'Me',\n",
              " 'New',\n",
              " 'THE',\n",
              " 'from',\n",
              " 'For',\n",
              " 'TO',\n",
              " 'It',\n",
              " 'We',\n",
              " '[Official',\n",
              " 'From',\n",
              " 'Of',\n",
              " 'Game']"
            ]
          },
          "metadata": {},
          "execution_count": 11
        }
      ]
    },
    {
      "cell_type": "code",
      "metadata": {
        "id": "zFzQiutXsQzW"
      },
      "source": [
        "# removing words that give no info \n",
        "top_50words.remove('-')\n",
        "top_50words.remove('|')\n",
        "top_50words.remove('The')\n",
        "top_50words.remove('the')\n",
        "top_50words.remove('a')\n",
        "top_50words.remove('to')\n",
        "top_50words.remove('of')\n",
        "top_50words.remove('In')\n",
        "top_50words.remove('with')\n",
        "top_50words.remove('A')\n",
        "top_50words.remove('&')\n",
        "top_50words.remove('and')\n",
        "top_50words.remove('in')\n",
        "top_50words.remove('on')\n",
        "top_50words.remove('To')\n",
        "top_50words.remove('Is')\n",
        "top_50words.remove('With')\n",
        "top_50words.remove('at')\n",
        "top_50words.remove('What')\n",
        "top_50words.remove('is')\n",
        "top_50words.remove('On')\n",
        "top_50words.remove('This')\n",
        "top_50words.remove('THE')\n",
        "top_50words.remove('TO')\n",
        "top_50words.remove('Of')"
      ],
      "id": "zFzQiutXsQzW",
      "execution_count": null,
      "outputs": []
    },
    {
      "cell_type": "code",
      "metadata": {
        "colab": {
          "base_uri": "https://localhost:8080/"
        },
        "id": "d2c9fb77siUJ",
        "outputId": "c536dfbd-a63f-4e94-c379-041b45600242"
      },
      "source": [
        "top_50words"
      ],
      "id": "d2c9fb77siUJ",
      "execution_count": null,
      "outputs": [
        {
          "output_type": "execute_result",
          "data": {
            "text/plain": [
              "['I',\n",
              " 'Video)',\n",
              " 'Trailer',\n",
              " 'How',\n",
              " '2018',\n",
              " '(Official',\n",
              " 'Official',\n",
              " 'You',\n",
              " 'My',\n",
              " 'for',\n",
              " 'ft.',\n",
              " 'MY',\n",
              " 'Music',\n",
              " '2017',\n",
              " '2',\n",
              " 'Why',\n",
              " 'Me',\n",
              " 'New',\n",
              " 'from',\n",
              " 'For',\n",
              " 'It',\n",
              " 'We',\n",
              " '[Official',\n",
              " 'From',\n",
              " 'Game']"
            ]
          },
          "metadata": {},
          "execution_count": 13
        }
      ]
    },
    {
      "cell_type": "code",
      "metadata": {
        "id": "tQWqxd4bslI9"
      },
      "source": [
        "# assigning 1 if one of top 50 words exist for each \"title\" else 0\n",
        "w1 = []\n",
        "w2 = []\n",
        "w3 = []\n",
        "w4 = []\n",
        "w5 = []\n",
        "w6 = []\n",
        "w7 = []\n",
        "w8 = []\n",
        "w9 = []\n",
        "w10 = []\n",
        "w11 = []\n",
        "w12 = []\n",
        "w13 = []\n",
        "w14 = []\n",
        "w15 = []\n",
        "w16 = []\n",
        "w17 = []\n",
        "w18 = []\n",
        "w19 = []\n",
        "w20 = []\n",
        "\n",
        "this_list = []\n",
        "\n",
        "for x in range(data.shape[0]) : \n",
        "    this_list  =  data['title'][x].split()\n",
        "    \n",
        "    if ('Video)' in this_list) or ('Video]' in this_list): \n",
        "        w1.append(1)\n",
        "    else: \n",
        "        w1.append(0)\n",
        "        \n",
        "    if ('(Official' in this_list) or ( 'Official'in this_list) or ( '[Official' in this_list): \n",
        "        w2.append(1)\n",
        "    else: \n",
        "        w2.append(0)\n",
        "        \n",
        "    if 'Trailer' in this_list: \n",
        "        w3.append(1)\n",
        "    else: \n",
        "        w3.append(0)\n",
        "      \n",
        "    if 'You' in this_list:\n",
        "        w4.append(1)\n",
        "    else: \n",
        "        w4.append(0)\n",
        "    if '2' in this_list: \n",
        "        w5.append(1)\n",
        "    else: \n",
        "        w5.append(0)\n",
        "    if '2017' in this_list: \n",
        "        w6.append(1)\n",
        "    else: \n",
        "        w6.append(0)\n",
        "    if ('My' in this_list) or ( 'MY'in this_list) in this_list: \n",
        "       w7.append(1)\n",
        "    else: \n",
        "        w7.append(0)\n",
        "    if 'Me' in this_list:\n",
        "        w8.append(1)\n",
        "    else: \n",
        "        w8.append(0)\n",
        "    if 'I'  in this_list: \n",
        "        w9.append(1)\n",
        "    else: \n",
        "        w9.append(0)\n",
        "    if ('for' in this_list) or ('For' in this_list): \n",
        "        w10.append(1)\n",
        "    else: \n",
        "        w10.append(0)\n",
        "    if '2018' in this_list:\n",
        "        w11.append(1)\n",
        "    else: \n",
        "        w11.append(0)\n",
        "    if 'Music' in this_list: \n",
        "        w12.append(1)\n",
        "    else: \n",
        "        w12.append(0)\n",
        "    if 'ft.' in this_list: \n",
        "        w13.append(1)\n",
        "    else: \n",
        "        w13.append(0)\n",
        "    if 'How' in this_list: \n",
        "        w14.append(1)\n",
        "    else: \n",
        "        w14.append(0)\n",
        "    if 'Why' in this_list: \n",
        "        w15.append(1)\n",
        "    else: \n",
        "        w15.append(0)\n",
        "    if 'New' in this_list: \n",
        "        w16.append(1)\n",
        "    else: \n",
        "        w16.append(0)\n",
        "    if ('from' in this_list) or ('From' in this_list): \n",
        "        w17.append(1)\n",
        "    else: \n",
        "        w17.append(0)\n",
        "    if 'it' in this_list: \n",
        "        w18.append(1)\n",
        "    else: \n",
        "        w18.append(0)\n",
        "    if 'We' in this_list: \n",
        "        w19.append(1)\n",
        "    else: \n",
        "        w19.append(0)\n",
        "    if 'Game' in this_list: \n",
        "        w20.append(1)\n",
        "    else: \n",
        "        w20.append(0)"
      ],
      "id": "tQWqxd4bslI9",
      "execution_count": null,
      "outputs": []
    },
    {
      "cell_type": "code",
      "metadata": {
        "id": "lzeTKn_btUZU"
      },
      "source": [
        "# defining the top words as new columns\n",
        "data.insert(18,'word 1',w1)\n",
        "data.insert(19,'word 2',w2)\n",
        "data.insert(20,'word 3',w3)\n",
        "data.insert(21,'word 4',w4)\n",
        "data.insert(22,'word 5',w5)\n",
        "data.insert(23,'word 6',w6)\n",
        "data.insert(24,'word 7',w7)\n",
        "data.insert(25,'word 8',w8)\n",
        "data.insert(26,'word 9',w9)\n",
        "data.insert(27,'word 10',w10)\n",
        "data.insert(28,'word 11',w11)\n",
        "data.insert(29,'word 12',w12)\n",
        "data.insert(30,'word 13',w13)\n",
        "data.insert(31,'word 14',w14)\n",
        "data.insert(32,'word 15',w15)\n",
        "data.insert(33,'word 16',w16)\n",
        "data.insert(34,'word 17',w17)\n",
        "data.insert(35,'word 18',w18)\n",
        "data.insert(36,'word 19',w19)\n",
        "data.insert(37,'word 20',w20)"
      ],
      "id": "lzeTKn_btUZU",
      "execution_count": null,
      "outputs": []
    },
    {
      "cell_type": "code",
      "metadata": {
        "id": "XsoYEPv8ta_u"
      },
      "source": [
        "# dropping title column\n",
        "data.drop(['title'],axis=1, inplace=True)"
      ],
      "id": "XsoYEPv8ta_u",
      "execution_count": null,
      "outputs": []
    },
    {
      "cell_type": "markdown",
      "metadata": {
        "id": "tcJDzr2IMiUd"
      },
      "source": [
        "**Channel Title**"
      ],
      "id": "tcJDzr2IMiUd"
    },
    {
      "cell_type": "code",
      "metadata": {
        "id": "fI8BdK2etdXs"
      },
      "source": [
        "# label encoding channel title\n",
        "my_label_encoding('channel_title' , 'channel_title_enc')"
      ],
      "id": "fI8BdK2etdXs",
      "execution_count": null,
      "outputs": []
    },
    {
      "cell_type": "markdown",
      "metadata": {
        "id": "GxpSwh7VNPYN"
      },
      "source": [
        "**Publish Time**"
      ],
      "id": "GxpSwh7VNPYN"
    },
    {
      "cell_type": "code",
      "metadata": {
        "id": "UPxAWiT8t4Fz"
      },
      "source": [
        "# dividing published times into quarters (early morning, morning, afternoon, evening/night)\n",
        "\n",
        "publish_quarter_periods = []\n",
        "\n",
        "for x in range(data.shape[0]):\n",
        "    hour = int(str(data['publish_time'][x])[11:13])\n",
        "    if hour >=0 and hour < 6  : \n",
        "        publish_quarter_periods.append(1)\n",
        "    elif hour >=6 and hour < 12  : \n",
        "        publish_quarter_periods.append(2)\n",
        "    elif hour >=12 and hour < 18  : \n",
        "        publish_quarter_periods.append(3)\n",
        "    else: \n",
        "        publish_quarter_periods.append(4)"
      ],
      "id": "UPxAWiT8t4Fz",
      "execution_count": null,
      "outputs": []
    },
    {
      "cell_type": "code",
      "metadata": {
        "id": "KqNhXOvUuDN2"
      },
      "source": [
        "# inserting published quarter and label encoding published time\n",
        "data.insert(37,'Publish Quarter',publish_quarter_periods)\n",
        "my_label_encoding('publish_time' , 'publish_time_enc')"
      ],
      "id": "KqNhXOvUuDN2",
      "execution_count": null,
      "outputs": []
    },
    {
      "cell_type": "markdown",
      "metadata": {
        "id": "3oo3fnE9N_ye"
      },
      "source": [
        "**Tags**"
      ],
      "id": "3oo3fnE9N_ye"
    },
    {
      "cell_type": "code",
      "metadata": {
        "id": "KixwUjWLuR1I"
      },
      "source": [
        "# label encoding tags\n",
        "my_label_encoding('tags' , 'tags_enc')"
      ],
      "id": "KixwUjWLuR1I",
      "execution_count": null,
      "outputs": []
    },
    {
      "cell_type": "markdown",
      "metadata": {
        "id": "W6fTABuwOiWc"
      },
      "source": [
        "**Views**"
      ],
      "id": "W6fTABuwOiWc"
    },
    {
      "cell_type": "code",
      "source": [
        "# finding the max and min number of views \n",
        "print('The minimum number of views:', data['views'].min())\n",
        "print('The maximum number of views:', data['views'].max())"
      ],
      "metadata": {
        "colab": {
          "base_uri": "https://localhost:8080/"
        },
        "id": "dzmcbikbKMTk",
        "outputId": "55635fd2-fa2e-4c47-ec35-54cb15a83260"
      },
      "id": "dzmcbikbKMTk",
      "execution_count": null,
      "outputs": [
        {
          "output_type": "stream",
          "name": "stdout",
          "text": [
            "The minimum number of views: 549\n",
            "The maximum number of views: 225211923\n"
          ]
        }
      ]
    },
    {
      "cell_type": "code",
      "source": [
        "# defining function that splits feature numbers into groups\n",
        "def feature_counter(data , max_value , feature , new_feature):\n",
        "\n",
        "  '''Splits a feature value into 5 groups.\n",
        "        \n",
        "        Parameters\n",
        "        ----------\n",
        "        data : dataset to be used\n",
        "        max_value : value to be considered when performing the feature magnitude splits\n",
        "        feature : feature name of dataset\n",
        "        new_feature : new feature name \n",
        "        \n",
        "        Returns\n",
        "        -------\n",
        "        None\n",
        "        '''\n",
        "\n",
        "  data_max=data[feature].max()\n",
        "  data_min=data[feature].min()\n",
        "  rate = (max_value- data_min)/5\n",
        "  feature_val_list = []\n",
        "\n",
        "  for i in range(data.shape[0]) : \n",
        "      if data[feature][i] <= (data_min + rate):\n",
        "          feature_val_list.append(1)\n",
        "      elif data[feature][i] <= (data_min + (2*rate)):\n",
        "          feature_val_list.append(2)            \n",
        "      elif data[feature][i] <= (data_min + (3*rate)):\n",
        "          feature_val_list.append(3)            \n",
        "      elif data[feature][i] <= (data_min + (4*rate)):\n",
        "          feature_val_list.append(4)                  \n",
        "      else:\n",
        "          feature_val_list.append(5) \n",
        "          \n",
        "  data.insert(data.shape[1], new_feature , feature_val_list)   "
      ],
      "metadata": {
        "id": "mG3uieGALDTM"
      },
      "id": "mG3uieGALDTM",
      "execution_count": null,
      "outputs": []
    },
    {
      "cell_type": "code",
      "metadata": {
        "colab": {
          "base_uri": "https://localhost:8080/",
          "height": 280
        },
        "id": "qbnqvBFywgbf",
        "outputId": "a171788a-159f-4dd0-d718-c9aff97402b7"
      },
      "source": [
        "# Creating countplot to visualize the group distibution and defining a \"view\" column for that\n",
        "feature_counter(data ,10000000 , 'views' , 'views_group')\n",
        "data.drop(['views'],axis=1, inplace=True)\n",
        "my_countplot('views_group')"
      ],
      "id": "qbnqvBFywgbf",
      "execution_count": null,
      "outputs": [
        {
          "output_type": "display_data",
          "data": {
            "image/png": "[encoded data removed]",
            "text/plain": [
              "<Figure size 432x288 with 1 Axes>"
            ]
          },
          "metadata": {
            "needs_background": "light"
          }
        }
      ]
    },
    {
      "cell_type": "markdown",
      "source": [
        "**Likes**"
      ],
      "metadata": {
        "id": "rChn_iYjpLKj"
      },
      "id": "rChn_iYjpLKj"
    },
    {
      "cell_type": "code",
      "source": [
        "# finding the max and min number of likes \n",
        "print('The minimum number of views:', data['likes'].min())\n",
        "print('The maximum number of views:', data['likes'].max())"
      ],
      "metadata": {
        "colab": {
          "base_uri": "https://localhost:8080/"
        },
        "id": "YDfq8EhRpT92",
        "outputId": "71a8101c-ac62-44bd-a7ff-8b3e1f31982e"
      },
      "id": "YDfq8EhRpT92",
      "execution_count": null,
      "outputs": [
        {
          "output_type": "stream",
          "name": "stdout",
          "text": [
            "The minimum number of views: 0\n",
            "The maximum number of views: 5613827\n"
          ]
        }
      ]
    },
    {
      "cell_type": "code",
      "metadata": {
        "colab": {
          "base_uri": "https://localhost:8080/",
          "height": 280
        },
        "id": "tO9MHve-xHbk",
        "outputId": "fe199494-2ceb-4ffb-9cd3-927834946381"
      },
      "source": [
        "# Creating countplot to visualize the group distibution and defining a \"likes\" column for that\n",
        "feature_counter(data ,500000 , 'likes' , 'likes_group')\n",
        "data.drop(['likes'],axis=1, inplace=True)\n",
        "my_countplot('likes_group')"
      ],
      "id": "tO9MHve-xHbk",
      "execution_count": null,
      "outputs": [
        {
          "output_type": "display_data",
          "data": {
            "image/png": "[encoded data removed]",
            "text/plain": [
              "<Figure size 432x288 with 1 Axes>"
            ]
          },
          "metadata": {
            "needs_background": "light"
          }
        }
      ]
    },
    {
      "cell_type": "markdown",
      "source": [
        "**Dislikes**"
      ],
      "metadata": {
        "id": "WxfYJkKjptyi"
      },
      "id": "WxfYJkKjptyi"
    },
    {
      "cell_type": "code",
      "source": [
        "# finding the max and min number of likes \n",
        "print('The minimum number of views:', data['dislikes'].min())\n",
        "print('The maximum number of views:', data['dislikes'].max())"
      ],
      "metadata": {
        "colab": {
          "base_uri": "https://localhost:8080/"
        },
        "id": "hTkRAuhKpwMX",
        "outputId": "29a380c8-45e2-4804-80fd-bfe3a037604a"
      },
      "id": "hTkRAuhKpwMX",
      "execution_count": null,
      "outputs": [
        {
          "output_type": "stream",
          "name": "stdout",
          "text": [
            "The minimum number of views: 0\n",
            "The maximum number of views: 1674420\n"
          ]
        }
      ]
    },
    {
      "cell_type": "code",
      "source": [
        "# Creating countplot to visualize the group distibution and defining a \"dislikes\" column for that\n",
        "feature_counter(data ,50000 , 'dislikes' , 'dislikes_group')\n",
        "data.drop(['dislikes'],axis=1, inplace=True)\n",
        "my_countplot('dislikes_group')"
      ],
      "metadata": {
        "colab": {
          "base_uri": "https://localhost:8080/",
          "height": 282
        },
        "id": "2bcnAnQsTNes",
        "outputId": "7d06e5b7-81d2-4d3e-ec47-9697dad0603c"
      },
      "id": "2bcnAnQsTNes",
      "execution_count": null,
      "outputs": [
        {
          "output_type": "display_data",
          "data": {
            "image/png": "[encoded data removed]",
            "text/plain": [
              "<Figure size 432x288 with 1 Axes>"
            ]
          },
          "metadata": {
            "needs_background": "light"
          }
        }
      ]
    },
    {
      "cell_type": "markdown",
      "metadata": {
        "id": "xwRg_ScWQYfd"
      },
      "source": [
        "**Comments**"
      ],
      "id": "xwRg_ScWQYfd"
    },
    {
      "cell_type": "code",
      "metadata": {
        "colab": {
          "base_uri": "https://localhost:8080/",
          "height": 280
        },
        "id": "SBHeG7ydxd_a",
        "outputId": "ccd4b162-487f-40ab-c8b6-ec7c25a0ef16"
      },
      "source": [
        "# Creating countplot to visualize the group distibution and defining a \"comment_count\" column for that\n",
        "feature_counter(data ,10000 , 'comment_count' , 'comment_count_group')\n",
        "data.drop(['comment_count'],axis=1, inplace=True)\n",
        "my_countplot('comment_count_group')"
      ],
      "id": "SBHeG7ydxd_a",
      "execution_count": null,
      "outputs": [
        {
          "output_type": "display_data",
          "data": {
            "image/png": "[encoded data removed]",
            "text/plain": [
              "<Figure size 432x288 with 1 Axes>"
            ]
          },
          "metadata": {
            "needs_background": "light"
          }
        }
      ]
    },
    {
      "cell_type": "markdown",
      "source": [
        "**Thumbnail Link**"
      ],
      "metadata": {
        "id": "M9PuQdFmVUX1"
      },
      "id": "M9PuQdFmVUX1"
    },
    {
      "cell_type": "code",
      "source": [
        "# dropping thumbnail link as no information is retreived\n",
        "data.drop(['thumbnail_link'],axis=1, inplace=True)"
      ],
      "metadata": {
        "id": "wsTURRVMVThH"
      },
      "id": "wsTURRVMVThH",
      "execution_count": null,
      "outputs": []
    },
    {
      "cell_type": "markdown",
      "metadata": {
        "id": "Yn35pJdfQiQz"
      },
      "source": [
        "**Comments disabled**"
      ],
      "id": "Yn35pJdfQiQz"
    },
    {
      "cell_type": "code",
      "metadata": {
        "id": "3tCyxMvUxrZM"
      },
      "source": [
        "# label encoding \"comments_disabled\" column\n",
        "my_label_encoding('comments_disabled','comments_disabled_enc')"
      ],
      "id": "3tCyxMvUxrZM",
      "execution_count": null,
      "outputs": []
    },
    {
      "cell_type": "markdown",
      "source": [
        "**Ratings Disabled**"
      ],
      "metadata": {
        "id": "HBvp1U8nVujQ"
      },
      "id": "HBvp1U8nVujQ"
    },
    {
      "cell_type": "code",
      "source": [
        "# label encoding \"ratings disabled\" column\n",
        "my_label_encoding('ratings_disabled','ratings_disabled_enc')"
      ],
      "metadata": {
        "id": "QxW9KFNOVooN"
      },
      "id": "QxW9KFNOVooN",
      "execution_count": null,
      "outputs": []
    },
    {
      "cell_type": "markdown",
      "source": [
        "**Video Error or Removed**"
      ],
      "metadata": {
        "id": "3dXMaBZyWCWc"
      },
      "id": "3dXMaBZyWCWc"
    },
    {
      "cell_type": "code",
      "source": [
        "# label encoding \"video error or removed\" column\n",
        "my_label_encoding('video_error_or_removed','video_error_or_removed_enc')"
      ],
      "metadata": {
        "id": "sJM03JJsWKtV"
      },
      "id": "sJM03JJsWKtV",
      "execution_count": null,
      "outputs": []
    },
    {
      "cell_type": "markdown",
      "source": [
        "**Description**"
      ],
      "metadata": {
        "id": "X36hPwQEWWym"
      },
      "id": "X36hPwQEWWym"
    },
    {
      "cell_type": "code",
      "source": [
        "# label encoding \"description\" column\n",
        "my_label_encoding('description','description_enc')"
      ],
      "metadata": {
        "id": "QSyjmlXbWWBF"
      },
      "id": "QSyjmlXbWWBF",
      "execution_count": null,
      "outputs": []
    },
    {
      "cell_type": "markdown",
      "source": [
        "**Defining Datasets**"
      ],
      "metadata": {
        "id": "WytZ9I6cc70m"
      },
      "id": "WytZ9I6cc70m"
    },
    {
      "cell_type": "code",
      "metadata": {
        "id": "xwdromRSyA_Y",
        "colab": {
          "base_uri": "https://localhost:8080/"
        },
        "outputId": "c8209a26-1be8-4c79-e6e0-2cc078408e24"
      },
      "source": [
        "# defining input matrix and labels\n",
        "X = data.drop(['category_id'], axis=1, inplace=False)\n",
        "y = data['category_id']\n",
        "\n",
        "# splitting datasets\n",
        "X_train, X_test, y_train, y_test = train_test_split(X, y, test_size=0.2, random_state=33, shuffle =True, stratify=y)\n",
        "\n",
        "# outputting shapes of each\n",
        "print('X_train shape is ' , X_train.shape)\n",
        "print('X_test shape is ' , X_test.shape)\n",
        "print('y_train shape is ' , y_train.shape)\n",
        "print('y_test shape is ' , y_test.shape)"
      ],
      "id": "xwdromRSyA_Y",
      "execution_count": null,
      "outputs": [
        {
          "output_type": "stream",
          "name": "stdout",
          "text": [
            "X_train shape is  (32759, 36)\n",
            "X_test shape is  (8190, 36)\n",
            "y_train shape is  (32759,)\n",
            "y_test shape is  (8190,)\n"
          ]
        }
      ]
    },
    {
      "cell_type": "markdown",
      "source": [
        "**Evaluating performances on Model (Only the optimal parameters are chosen and evaluated here)**"
      ],
      "metadata": {
        "id": "CLsts2SVdeNi"
      },
      "id": "CLsts2SVdeNi"
    },
    {
      "cell_type": "code",
      "metadata": {
        "colab": {
          "base_uri": "https://localhost:8080/"
        },
        "id": "rTswdawCyMom",
        "outputId": "1579b5a3-7bc5-4ddb-99f0-50f637392149"
      },
      "source": [
        "# training and evaluating on gradient boosting classifier\n",
        "GBCModel = GradientBoostingClassifier(n_estimators=100,max_depth=25,random_state=33) \n",
        "GBCModel.fit(X_train, y_train)\n",
        "print('GBCModel Test Score: ' , GBCModel.score(X_test, y_test))"
      ],
      "id": "rTswdawCyMom",
      "execution_count": null,
      "outputs": [
        {
          "output_type": "stream",
          "name": "stdout",
          "text": [
            "GBCModel Test Score:  0.9864468864468865\n"
          ]
        }
      ]
    },
    {
      "cell_type": "code",
      "source": [
        "# training and evaluating on histogram gradient boosting classifier\n",
        "HGBCModel = HistGradientBoostingClassifier(max_leaf_nodes=100,max_depth=25,random_state=33) \n",
        "HGBCModel.fit(X_train, y_train)\n",
        "print('HGBCModel Test Score: ' , HGBCModel.score(X_test, y_test))"
      ],
      "metadata": {
        "colab": {
          "base_uri": "https://localhost:8080/"
        },
        "id": "BLbyOIp3d3z5",
        "outputId": "a4d271d1-be88-4f86-84d1-af98bb5e946c"
      },
      "id": "BLbyOIp3d3z5",
      "execution_count": null,
      "outputs": [
        {
          "output_type": "stream",
          "name": "stdout",
          "text": [
            "HGBCModel Test Score:  0.9871794871794872\n"
          ]
        }
      ]
    },
    {
      "cell_type": "code",
      "source": [
        "# training and evaluating on xgboost classifier\n",
        "X_train['Month'] = X_train['Month'].astype(str).astype(int)\n",
        "X_train['Day'] = X_train['Day'].astype(str).astype(int)\n",
        "X_test['Month'] = X_test['Month'].astype(str).astype(int)\n",
        "X_test['Day'] = X_test['Day'].astype(str).astype(int)\n",
        "XGBModel = XGBClassifier(n_estimators=100,max_depth=20,random_state=33) \n",
        "XGBModel.fit(X_train, y_train)\n",
        "print('XGBModel Test Score: ' , XGBModel.score(X_test, y_test))"
      ],
      "metadata": {
        "colab": {
          "base_uri": "https://localhost:8080/"
        },
        "id": "77n0PxJueIwB",
        "outputId": "344689d2-3c53-4b75-c815-6ec98ea7d0cd"
      },
      "id": "77n0PxJueIwB",
      "execution_count": null,
      "outputs": [
        {
          "output_type": "stream",
          "name": "stdout",
          "text": [
            "XGBModel Test Score:  0.9896214896214897\n"
          ]
        }
      ]
    },
    {
      "cell_type": "code",
      "metadata": {
        "colab": {
          "base_uri": "https://localhost:8080/"
        },
        "id": "om8wGI__yYam",
        "outputId": "21efe6cc-7fab-42c2-923c-4fd28c655b37"
      },
      "source": [
        "# training and evaluating on decision tree classifier\n",
        "\n",
        "DecisionTreeClassifierModel = DecisionTreeClassifier(criterion='entropy',max_depth=30,random_state=33) #criterion can be entropy\n",
        "DecisionTreeClassifierModel.fit(X_train, y_train)\n",
        "\n",
        "#Calculating Details\n",
        "print('DecisionTreeClassifierModel Train Score is : ' , DecisionTreeClassifierModel.score(X_train, y_train))\n",
        "print('DecisionTreeClassifierModel Test Score is : ' , DecisionTreeClassifierModel.score(X_test, y_test))"
      ],
      "id": "om8wGI__yYam",
      "execution_count": null,
      "outputs": [
        {
          "output_type": "stream",
          "name": "stdout",
          "text": [
            "DecisionTreeClassifierModel Train Score is :  1.0\n",
            "DecisionTreeClassifierModel Test Score is :  0.9826617826617826\n"
          ]
        }
      ]
    },
    {
      "cell_type": "code",
      "source": [
        "# training and evaluating on random forest classifier\n",
        "\n",
        "RFCModel = RandomForestClassifier(max_leaf_nodes=2000, max_depth=50, random_state=33)\n",
        "RFCModel.fit(X_train, y_train)\n",
        "print('RandomForestClassifierModel Train Score is : ' , RFCModel.score(X_train, y_train))\n",
        "print('RandomForestClassifierModel Test Score is : ' , RFCModel.score(X_test, y_test))"
      ],
      "metadata": {
        "colab": {
          "base_uri": "https://localhost:8080/"
        },
        "id": "9-zG0xSVdYqg",
        "outputId": "3be6d858-4f2f-4d80-acfa-3817b75894df"
      },
      "id": "9-zG0xSVdYqg",
      "execution_count": null,
      "outputs": [
        {
          "output_type": "stream",
          "name": "stdout",
          "text": [
            "RandomForestClassifierModel Train Score is :  0.9859885832900882\n",
            "RandomForestClassifierModel Test Score is :  0.9611721611721612\n"
          ]
        }
      ]
    },
    {
      "cell_type": "markdown",
      "source": [
        "**Comparing Predictions and Actual values using our best model**"
      ],
      "metadata": {
        "id": "Or4xJZBbwfIP"
      },
      "id": "Or4xJZBbwfIP"
    },
    {
      "cell_type": "code",
      "source": [
        "print('The first 5 category prediction: ', XGBModel.predict(X_test)[:5])\n",
        "print('The first 5 categories: ', list(y_test[:5]))"
      ],
      "metadata": {
        "colab": {
          "base_uri": "https://localhost:8080/"
        },
        "id": "aAO5OBUzq9sS",
        "outputId": "f120a01a-269e-4cd6-bcdf-7d6c4b23f4ca"
      },
      "id": "aAO5OBUzq9sS",
      "execution_count": null,
      "outputs": [
        {
          "output_type": "stream",
          "name": "stdout",
          "text": [
            "The first 5 category prediction:  [24 24 27 10 22]\n",
            "The first 5 categories:  [24, 24, 27, 10, 22]\n"
          ]
        }
      ]
    },
    {
      "cell_type": "markdown",
      "source": [
        "**Final Dataframe**"
      ],
      "metadata": {
        "id": "_waky_t-wuZ1"
      },
      "id": "_waky_t-wuZ1"
    },
    {
      "cell_type": "code",
      "source": [
        "# dataframe used for preprocessing\n",
        "data"
      ],
      "metadata": {
        "colab": {
          "base_uri": "https://localhost:8080/",
          "height": 461
        },
        "id": "uPfL9QjEGJi_",
        "outputId": "dc74bb6d-07b9-4ecf-da0d-b311deeae456"
      },
      "id": "uPfL9QjEGJi_",
      "execution_count": null,
      "outputs": [
        {
          "output_type": "execute_result",
          "data": {
            "text/html": [
              "<div>\n",
              "<style scoped>\n",
              "    .dataframe tbody tr th:only-of-type {\n",
              "        vertical-align: middle;\n",
              "    }\n",
              "\n",
              "    .dataframe tbody tr th {\n",
              "        vertical-align: top;\n",
              "    }\n",
              "\n",
              "    .dataframe thead th {\n",
              "        text-align: right;\n",
              "    }\n",
              "</style>\n",
              "<table border=\"1\" class=\"dataframe\">\n",
              "  <thead>\n",
              "    <tr style=\"text-align: right;\">\n",
              "      <th></th>\n",
              "      <th>category_id</th>\n",
              "      <th>video_id_enc</th>\n",
              "      <th>Year</th>\n",
              "      <th>Month</th>\n",
              "      <th>Day</th>\n",
              "      <th>word 1</th>\n",
              "      <th>word 2</th>\n",
              "      <th>word 3</th>\n",
              "      <th>word 4</th>\n",
              "      <th>word 5</th>\n",
              "      <th>word 6</th>\n",
              "      <th>word 7</th>\n",
              "      <th>word 8</th>\n",
              "      <th>word 9</th>\n",
              "      <th>word 10</th>\n",
              "      <th>word 11</th>\n",
              "      <th>word 12</th>\n",
              "      <th>word 13</th>\n",
              "      <th>word 14</th>\n",
              "      <th>word 15</th>\n",
              "      <th>word 16</th>\n",
              "      <th>word 17</th>\n",
              "      <th>word 18</th>\n",
              "      <th>word 19</th>\n",
              "      <th>word 20</th>\n",
              "      <th>channel_title_enc</th>\n",
              "      <th>Publish Quarter</th>\n",
              "      <th>publish_time_enc</th>\n",
              "      <th>tags_enc</th>\n",
              "      <th>views_group</th>\n",
              "      <th>likes_group</th>\n",
              "      <th>dislikes_group</th>\n",
              "      <th>comment_count_group</th>\n",
              "      <th>comments_disabled_enc</th>\n",
              "      <th>ratings_disabled_enc</th>\n",
              "      <th>video_error_or_removed_enc</th>\n",
              "      <th>description_enc</th>\n",
              "    </tr>\n",
              "  </thead>\n",
              "  <tbody>\n",
              "    <tr>\n",
              "      <th>0</th>\n",
              "      <td>22</td>\n",
              "      <td>376</td>\n",
              "      <td>0</td>\n",
              "      <td>11</td>\n",
              "      <td>14</td>\n",
              "      <td>0</td>\n",
              "      <td>0</td>\n",
              "      <td>0</td>\n",
              "      <td>0</td>\n",
              "      <td>0</td>\n",
              "      <td>0</td>\n",
              "      <td>0</td>\n",
              "      <td>0</td>\n",
              "      <td>0</td>\n",
              "      <td>0</td>\n",
              "      <td>0</td>\n",
              "      <td>0</td>\n",
              "      <td>0</td>\n",
              "      <td>0</td>\n",
              "      <td>0</td>\n",
              "      <td>0</td>\n",
              "      <td>0</td>\n",
              "      <td>0</td>\n",
              "      <td>0</td>\n",
              "      <td>0</td>\n",
              "      <td>335</td>\n",
              "      <td>3</td>\n",
              "      <td>317</td>\n",
              "      <td>1914</td>\n",
              "      <td>1</td>\n",
              "      <td>1</td>\n",
              "      <td>1</td>\n",
              "      <td>5</td>\n",
              "      <td>0</td>\n",
              "      <td>0</td>\n",
              "      <td>0</td>\n",
              "      <td>4488</td>\n",
              "    </tr>\n",
              "    <tr>\n",
              "      <th>1</th>\n",
              "      <td>24</td>\n",
              "      <td>256</td>\n",
              "      <td>0</td>\n",
              "      <td>11</td>\n",
              "      <td>14</td>\n",
              "      <td>0</td>\n",
              "      <td>0</td>\n",
              "      <td>0</td>\n",
              "      <td>0</td>\n",
              "      <td>0</td>\n",
              "      <td>0</td>\n",
              "      <td>0</td>\n",
              "      <td>0</td>\n",
              "      <td>0</td>\n",
              "      <td>0</td>\n",
              "      <td>0</td>\n",
              "      <td>0</td>\n",
              "      <td>0</td>\n",
              "      <td>0</td>\n",
              "      <td>0</td>\n",
              "      <td>0</td>\n",
              "      <td>0</td>\n",
              "      <td>0</td>\n",
              "      <td>0</td>\n",
              "      <td>0</td>\n",
              "      <td>1008</td>\n",
              "      <td>2</td>\n",
              "      <td>286</td>\n",
              "      <td>4340</td>\n",
              "      <td>2</td>\n",
              "      <td>1</td>\n",
              "      <td>1</td>\n",
              "      <td>5</td>\n",
              "      <td>0</td>\n",
              "      <td>0</td>\n",
              "      <td>0</td>\n",
              "      <td>4033</td>\n",
              "    </tr>\n",
              "    <tr>\n",
              "      <th>2</th>\n",
              "      <td>23</td>\n",
              "      <td>696</td>\n",
              "      <td>0</td>\n",
              "      <td>11</td>\n",
              "      <td>14</td>\n",
              "      <td>0</td>\n",
              "      <td>0</td>\n",
              "      <td>0</td>\n",
              "      <td>0</td>\n",
              "      <td>0</td>\n",
              "      <td>0</td>\n",
              "      <td>0</td>\n",
              "      <td>0</td>\n",
              "      <td>0</td>\n",
              "      <td>0</td>\n",
              "      <td>0</td>\n",
              "      <td>0</td>\n",
              "      <td>0</td>\n",
              "      <td>0</td>\n",
              "      <td>0</td>\n",
              "      <td>0</td>\n",
              "      <td>0</td>\n",
              "      <td>0</td>\n",
              "      <td>0</td>\n",
              "      <td>0</td>\n",
              "      <td>1499</td>\n",
              "      <td>4</td>\n",
              "      <td>270</td>\n",
              "      <td>5047</td>\n",
              "      <td>2</td>\n",
              "      <td>2</td>\n",
              "      <td>1</td>\n",
              "      <td>5</td>\n",
              "      <td>0</td>\n",
              "      <td>0</td>\n",
              "      <td>0</td>\n",
              "      <td>6033</td>\n",
              "    </tr>\n",
              "    <tr>\n",
              "      <th>3</th>\n",
              "      <td>24</td>\n",
              "      <td>5377</td>\n",
              "      <td>0</td>\n",
              "      <td>11</td>\n",
              "      <td>14</td>\n",
              "      <td>0</td>\n",
              "      <td>0</td>\n",
              "      <td>0</td>\n",
              "      <td>0</td>\n",
              "      <td>0</td>\n",
              "      <td>0</td>\n",
              "      <td>0</td>\n",
              "      <td>0</td>\n",
              "      <td>0</td>\n",
              "      <td>0</td>\n",
              "      <td>0</td>\n",
              "      <td>0</td>\n",
              "      <td>0</td>\n",
              "      <td>0</td>\n",
              "      <td>0</td>\n",
              "      <td>0</td>\n",
              "      <td>0</td>\n",
              "      <td>0</td>\n",
              "      <td>0</td>\n",
              "      <td>0</td>\n",
              "      <td>706</td>\n",
              "      <td>2</td>\n",
              "      <td>290</td>\n",
              "      <td>5143</td>\n",
              "      <td>1</td>\n",
              "      <td>1</td>\n",
              "      <td>1</td>\n",
              "      <td>2</td>\n",
              "      <td>0</td>\n",
              "      <td>0</td>\n",
              "      <td>0</td>\n",
              "      <td>5847</td>\n",
              "    </tr>\n",
              "    <tr>\n",
              "      <th>4</th>\n",
              "      <td>24</td>\n",
              "      <td>4067</td>\n",
              "      <td>0</td>\n",
              "      <td>11</td>\n",
              "      <td>14</td>\n",
              "      <td>0</td>\n",
              "      <td>0</td>\n",
              "      <td>0</td>\n",
              "      <td>0</td>\n",
              "      <td>0</td>\n",
              "      <td>0</td>\n",
              "      <td>0</td>\n",
              "      <td>0</td>\n",
              "      <td>1</td>\n",
              "      <td>0</td>\n",
              "      <td>0</td>\n",
              "      <td>0</td>\n",
              "      <td>0</td>\n",
              "      <td>0</td>\n",
              "      <td>0</td>\n",
              "      <td>0</td>\n",
              "      <td>0</td>\n",
              "      <td>0</td>\n",
              "      <td>0</td>\n",
              "      <td>0</td>\n",
              "      <td>2147</td>\n",
              "      <td>4</td>\n",
              "      <td>268</td>\n",
              "      <td>5210</td>\n",
              "      <td>2</td>\n",
              "      <td>2</td>\n",
              "      <td>1</td>\n",
              "      <td>5</td>\n",
              "      <td>0</td>\n",
              "      <td>0</td>\n",
              "      <td>0</td>\n",
              "      <td>2360</td>\n",
              "    </tr>\n",
              "    <tr>\n",
              "      <th>...</th>\n",
              "      <td>...</td>\n",
              "      <td>...</td>\n",
              "      <td>...</td>\n",
              "      <td>...</td>\n",
              "      <td>...</td>\n",
              "      <td>...</td>\n",
              "      <td>...</td>\n",
              "      <td>...</td>\n",
              "      <td>...</td>\n",
              "      <td>...</td>\n",
              "      <td>...</td>\n",
              "      <td>...</td>\n",
              "      <td>...</td>\n",
              "      <td>...</td>\n",
              "      <td>...</td>\n",
              "      <td>...</td>\n",
              "      <td>...</td>\n",
              "      <td>...</td>\n",
              "      <td>...</td>\n",
              "      <td>...</td>\n",
              "      <td>...</td>\n",
              "      <td>...</td>\n",
              "      <td>...</td>\n",
              "      <td>...</td>\n",
              "      <td>...</td>\n",
              "      <td>...</td>\n",
              "      <td>...</td>\n",
              "      <td>...</td>\n",
              "      <td>...</td>\n",
              "      <td>...</td>\n",
              "      <td>...</td>\n",
              "      <td>...</td>\n",
              "      <td>...</td>\n",
              "      <td>...</td>\n",
              "      <td>...</td>\n",
              "      <td>...</td>\n",
              "      <td>...</td>\n",
              "    </tr>\n",
              "    <tr>\n",
              "      <th>40944</th>\n",
              "      <td>15</td>\n",
              "      <td>1257</td>\n",
              "      <td>1</td>\n",
              "      <td>06</td>\n",
              "      <td>14</td>\n",
              "      <td>0</td>\n",
              "      <td>0</td>\n",
              "      <td>0</td>\n",
              "      <td>0</td>\n",
              "      <td>0</td>\n",
              "      <td>0</td>\n",
              "      <td>0</td>\n",
              "      <td>0</td>\n",
              "      <td>0</td>\n",
              "      <td>0</td>\n",
              "      <td>0</td>\n",
              "      <td>0</td>\n",
              "      <td>0</td>\n",
              "      <td>0</td>\n",
              "      <td>0</td>\n",
              "      <td>0</td>\n",
              "      <td>0</td>\n",
              "      <td>0</td>\n",
              "      <td>0</td>\n",
              "      <td>0</td>\n",
              "      <td>35</td>\n",
              "      <td>3</td>\n",
              "      <td>5928</td>\n",
              "      <td>2627</td>\n",
              "      <td>1</td>\n",
              "      <td>1</td>\n",
              "      <td>1</td>\n",
              "      <td>2</td>\n",
              "      <td>0</td>\n",
              "      <td>0</td>\n",
              "      <td>0</td>\n",
              "      <td>5202</td>\n",
              "    </tr>\n",
              "    <tr>\n",
              "      <th>40945</th>\n",
              "      <td>22</td>\n",
              "      <td>267</td>\n",
              "      <td>1</td>\n",
              "      <td>06</td>\n",
              "      <td>14</td>\n",
              "      <td>0</td>\n",
              "      <td>0</td>\n",
              "      <td>0</td>\n",
              "      <td>0</td>\n",
              "      <td>0</td>\n",
              "      <td>0</td>\n",
              "      <td>0</td>\n",
              "      <td>0</td>\n",
              "      <td>0</td>\n",
              "      <td>0</td>\n",
              "      <td>0</td>\n",
              "      <td>0</td>\n",
              "      <td>0</td>\n",
              "      <td>0</td>\n",
              "      <td>0</td>\n",
              "      <td>0</td>\n",
              "      <td>0</td>\n",
              "      <td>0</td>\n",
              "      <td>0</td>\n",
              "      <td>0</td>\n",
              "      <td>2198</td>\n",
              "      <td>1</td>\n",
              "      <td>5919</td>\n",
              "      <td>2612</td>\n",
              "      <td>1</td>\n",
              "      <td>1</td>\n",
              "      <td>1</td>\n",
              "      <td>2</td>\n",
              "      <td>0</td>\n",
              "      <td>0</td>\n",
              "      <td>0</td>\n",
              "      <td>6901</td>\n",
              "    </tr>\n",
              "    <tr>\n",
              "      <th>40946</th>\n",
              "      <td>24</td>\n",
              "      <td>1411</td>\n",
              "      <td>1</td>\n",
              "      <td>06</td>\n",
              "      <td>14</td>\n",
              "      <td>0</td>\n",
              "      <td>0</td>\n",
              "      <td>0</td>\n",
              "      <td>0</td>\n",
              "      <td>0</td>\n",
              "      <td>0</td>\n",
              "      <td>0</td>\n",
              "      <td>0</td>\n",
              "      <td>1</td>\n",
              "      <td>0</td>\n",
              "      <td>0</td>\n",
              "      <td>0</td>\n",
              "      <td>0</td>\n",
              "      <td>0</td>\n",
              "      <td>0</td>\n",
              "      <td>0</td>\n",
              "      <td>0</td>\n",
              "      <td>0</td>\n",
              "      <td>0</td>\n",
              "      <td>0</td>\n",
              "      <td>237</td>\n",
              "      <td>3</td>\n",
              "      <td>5934</td>\n",
              "      <td>1078</td>\n",
              "      <td>1</td>\n",
              "      <td>1</td>\n",
              "      <td>1</td>\n",
              "      <td>2</td>\n",
              "      <td>0</td>\n",
              "      <td>0</td>\n",
              "      <td>0</td>\n",
              "      <td>2350</td>\n",
              "    </tr>\n",
              "    <tr>\n",
              "      <th>40947</th>\n",
              "      <td>1</td>\n",
              "      <td>5222</td>\n",
              "      <td>1</td>\n",
              "      <td>06</td>\n",
              "      <td>14</td>\n",
              "      <td>0</td>\n",
              "      <td>0</td>\n",
              "      <td>0</td>\n",
              "      <td>0</td>\n",
              "      <td>0</td>\n",
              "      <td>0</td>\n",
              "      <td>0</td>\n",
              "      <td>0</td>\n",
              "      <td>0</td>\n",
              "      <td>0</td>\n",
              "      <td>0</td>\n",
              "      <td>0</td>\n",
              "      <td>0</td>\n",
              "      <td>1</td>\n",
              "      <td>0</td>\n",
              "      <td>0</td>\n",
              "      <td>0</td>\n",
              "      <td>0</td>\n",
              "      <td>0</td>\n",
              "      <td>0</td>\n",
              "      <td>778</td>\n",
              "      <td>3</td>\n",
              "      <td>5913</td>\n",
              "      <td>311</td>\n",
              "      <td>3</td>\n",
              "      <td>2</td>\n",
              "      <td>1</td>\n",
              "      <td>5</td>\n",
              "      <td>0</td>\n",
              "      <td>0</td>\n",
              "      <td>0</td>\n",
              "      <td>2254</td>\n",
              "    </tr>\n",
              "    <tr>\n",
              "      <th>40948</th>\n",
              "      <td>20</td>\n",
              "      <td>5260</td>\n",
              "      <td>1</td>\n",
              "      <td>06</td>\n",
              "      <td>14</td>\n",
              "      <td>0</td>\n",
              "      <td>1</td>\n",
              "      <td>1</td>\n",
              "      <td>0</td>\n",
              "      <td>0</td>\n",
              "      <td>0</td>\n",
              "      <td>0</td>\n",
              "      <td>0</td>\n",
              "      <td>0</td>\n",
              "      <td>0</td>\n",
              "      <td>0</td>\n",
              "      <td>0</td>\n",
              "      <td>0</td>\n",
              "      <td>0</td>\n",
              "      <td>0</td>\n",
              "      <td>0</td>\n",
              "      <td>0</td>\n",
              "      <td>0</td>\n",
              "      <td>0</td>\n",
              "      <td>0</td>\n",
              "      <td>307</td>\n",
              "      <td>3</td>\n",
              "      <td>5914</td>\n",
              "      <td>3051</td>\n",
              "      <td>5</td>\n",
              "      <td>4</td>\n",
              "      <td>5</td>\n",
              "      <td>5</td>\n",
              "      <td>0</td>\n",
              "      <td>0</td>\n",
              "      <td>0</td>\n",
              "      <td>841</td>\n",
              "    </tr>\n",
              "  </tbody>\n",
              "</table>\n",
              "<p>40949 rows × 37 columns</p>\n",
              "</div>"
            ],
            "text/plain": [
              "       category_id  video_id_enc  ...  video_error_or_removed_enc description_enc\n",
              "0               22           376  ...                           0            4488\n",
              "1               24           256  ...                           0            4033\n",
              "2               23           696  ...                           0            6033\n",
              "3               24          5377  ...                           0            5847\n",
              "4               24          4067  ...                           0            2360\n",
              "...            ...           ...  ...                         ...             ...\n",
              "40944           15          1257  ...                           0            5202\n",
              "40945           22           267  ...                           0            6901\n",
              "40946           24          1411  ...                           0            2350\n",
              "40947            1          5222  ...                           0            2254\n",
              "40948           20          5260  ...                           0             841\n",
              "\n",
              "[40949 rows x 37 columns]"
            ]
          },
          "metadata": {},
          "execution_count": 35
        }
      ]
    },
    {
      "cell_type": "code",
      "source": [
        ""
      ],
      "metadata": {
        "id": "39rShEh6vzIs"
      },
      "id": "39rShEh6vzIs",
      "execution_count": null,
      "outputs": []
    }
  ]
}